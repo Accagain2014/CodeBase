{
 "cells": [
  {
   "cell_type": "code",
   "execution_count": 2,
   "metadata": {
    "collapsed": true
   },
   "outputs": [],
   "source": [
    "import tensorflow as tf\n"
   ]
  },
  {
   "cell_type": "code",
   "execution_count": 11,
   "metadata": {},
   "outputs": [
    {
     "name": "stdout",
     "output_type": "stream",
     "text": [
      "[[1 2]\n",
      " [0 0]]\n",
      "****************\n",
      "[[[1 2 3]\n",
      "  [0 0 0]]\n",
      "\n",
      " [[0 0 0]\n",
      "  [2 2 0]]]\n",
      "****************\n",
      "[[[1 2 3]\n",
      "  [0 0 0]]\n",
      "\n",
      " [[0 1 1]\n",
      "  [0 0 0]]]\n",
      "****************\n",
      "[[[2]\n",
      "  [4]]\n",
      "\n",
      " [[0]\n",
      "  [1]]]\n",
      "****************\n",
      "[[[0]\n",
      "  [0]]\n",
      "\n",
      " [[0]\n",
      "  [1]]]\n"
     ]
    }
   ],
   "source": [
    "'''\n",
    "    example for broadcast\n",
    "    \n",
    "    shapes:\n",
    "        [maxlen, hidden_units] * [maxlen, 1]  = [maxlen, hidden_units]\n",
    "        \n",
    "        [batch_size, maxlen, hidden_units] * [batch_size, maxlen, 1] = [batch_size, maxlen, hidden_units]\n",
    "'''\n",
    "\n",
    "input_1 = tf.constant([[1, 2], [3, 4]])\n",
    "mask_1 = tf.constant([[1], [0]])\n",
    "output_1 = input_1 * mask_1  # [2, 2] * [2, 1] = [2, 2]\n",
    "\n",
    "\n",
    "input_2 = tf.constant([\n",
    "    [[1, 2, 3], [3, 4, 5]],\n",
    "    [[0, 1, 1], [2, 2, 0]]]\n",
    "    )  # [2, 2, 3]\n",
    "mask_2 = tf.constant([\n",
    "    [[1], [0]],\n",
    "    [[0], [1]]])  # [2, 2, 1]\n",
    "output_2 = input_2 * mask_2  # [2, 2, 3] * [2, 2, 1] = [2, 2, 3]\n",
    "\n",
    "\n",
    "input_3 = tf.constant([\n",
    "    [[1, 2, 3], [3, 4, 5]],\n",
    "    [[0, 1, 1], [2, 2, 0]]]\n",
    "    )  # [2, 2, 3]\n",
    "mask_3 = tf.constant(\n",
    "    [[1, 1, 1], [0, 0, 0]])\n",
    "output_3 = input_3 * mask_3  # [2, 2, 3] * [2, 3] = [2, 2, 3]  最后两维相乘\n",
    "mean, variance = tf.nn.moments(input_3, [-1], keep_dims=True)\n",
    "\n",
    "with tf.Session() as sess:\n",
    "    print(sess.run(output_1))\n",
    "    print('****'*4)\n",
    "    print(sess.run(output_2))\n",
    "    print('****'*4)\n",
    "    print(sess.run(output_3))\n",
    "    print('****'*4)\n",
    "    print(sess.run(mean))\n",
    "    print('****'*4)\n",
    "    print(sess.run(variance))\n",
    "    "
   ]
  },
  {
   "cell_type": "code",
   "execution_count": 6,
   "metadata": {},
   "outputs": [
    {
     "name": "stdout",
     "output_type": "stream",
     "text": [
      "[[1 0 0]\n",
      " [1 1 0]\n",
      " [1 1 1]]\n"
     ]
    }
   ],
   "source": [
    "'''\n",
    "    reduce_sum\n",
    "'''\n",
    "\n",
    "\n",
    "input = tf.constant([\n",
    "    [1, 2, 3], [3, 4, 5],\n",
    "    [0, 1, 1]]\n",
    "    )  # [3, 3]\n",
    "\n",
    "diag_vals = tf.ones_like(input)\n",
    "output = tf.linalg.LinearOperatorLowerTriangular(diag_vals).to_dense()\n",
    "\n",
    "\n",
    "with tf.Session() as sess:\n",
    "    print(sess.run(output))\n",
    "    \n",
    "    "
   ]
  },
  {
   "cell_type": "code",
   "execution_count": 11,
   "metadata": {},
   "outputs": [
    {
     "name": "stdout",
     "output_type": "stream",
     "text": [
      "[[[[1.]]\n",
      "\n",
      "  [[1.]]\n",
      "\n",
      "  [[0.]]\n",
      "\n",
      "  [[0.]]\n",
      "\n",
      "  [[0.]]]\n",
      "\n",
      "\n",
      " [[[1.]]\n",
      "\n",
      "  [[1.]]\n",
      "\n",
      "  [[1.]]\n",
      "\n",
      "  [[0.]]\n",
      "\n",
      "  [[0.]]]]\n"
     ]
    }
   ],
   "source": [
    "import tensorflow as tf\n",
    "\n",
    "\n",
    "input_length = [2, 3]\n",
    "T = 5\n",
    "N = 2\n",
    "inputs_mask = tf.sequence_mask(input_length, T, tf.float32)\n",
    "inputs_mask = tf.reshape(inputs_mask, [N, T, 1, 1])\n",
    "\n",
    "with tf.Session() as sess:\n",
    "    print(sess.run(inputs_mask))\n",
    "\n"
   ]
  },
  {
   "cell_type": "code",
   "execution_count": null,
   "metadata": {},
   "outputs": [],
   "source": []
  }
 ],
 "metadata": {
  "kernelspec": {
   "display_name": "cs224n",
   "language": "python",
   "name": "cs224n"
  },
  "language_info": {
   "codemirror_mode": {
    "name": "ipython",
    "version": 3
   },
   "file_extension": ".py",
   "mimetype": "text/x-python",
   "name": "python",
   "nbconvert_exporter": "python",
   "pygments_lexer": "ipython3",
   "version": "3.7.6"
  }
 },
 "nbformat": 4,
 "nbformat_minor": 4
}
